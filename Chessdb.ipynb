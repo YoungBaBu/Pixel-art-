{
 "cells": [
  {
   "cell_type": "code",
   "execution_count": 12,
   "id": "185ca49f-9714-4068-b65d-908589411ed5",
   "metadata": {},
   "outputs": [
    {
     "name": "stdout",
     "output_type": "stream",
     "text": [
      "   Image Index           Image Path             Label\n",
      "0            1  path/to/image_1.jpg  [1. 0. 0. 0. 0.]\n",
      "1            2  path/to/image_2.jpg  [0. 0. 0. 0. 1.]\n",
      "2            3  path/to/image_3.jpg  [1. 0. 0. 0. 0.]\n",
      "3            4  path/to/image_4.jpg  [0. 0. 0. 0. 1.]\n",
      "4            5  path/to/image_5.jpg  [1. 0. 0. 0. 0.]\n",
      "CSV data imported to SQLite database successfully!\n",
      "Tables in DB: [('labels',)]\n",
      "(1, 'path/to/image_1.jpg', '[1. 0. 0. 0. 0.]')\n",
      "(2, 'path/to/image_2.jpg', '[0. 0. 0. 0. 1.]')\n",
      "(3, 'path/to/image_3.jpg', '[1. 0. 0. 0. 0.]')\n",
      "(4, 'path/to/image_4.jpg', '[0. 0. 0. 0. 1.]')\n",
      "(5, 'path/to/image_5.jpg', '[1. 0. 0. 0. 0.]')\n"
     ]
    }
   ],
   "source": [
    "import pandas as pd\n",
    "import sqlite3\n",
    "\n",
    "# Step 1: Load CSV file into pandas DataFrame\n",
    "csv_file = \"labels.csv\"\n",
    "df = pd.read_csv(csv_file)\n",
    "\n",
    "# Optional: Check first few rows\n",
    "print(df.head())\n",
    "\n",
    "# Step 2: Connect to SQLite database\n",
    "conn = sqlite3.connect(\"labels.sqlite\")\n",
    "\n",
    "# Step 3: Write DataFrame to SQLite table named 'labels'\n",
    "df.to_sql(\"labels\", conn, if_exists='replace', index=False)\n",
    "\n",
    "print(\"CSV data imported to SQLite database successfully!\")\n",
    "\n",
    "# Step 4: Verify tables\n",
    "cursor = conn.cursor()\n",
    "cursor.execute(\"SELECT name FROM sqlite_master WHERE type='table';\")\n",
    "print(\"Tables in DB:\", cursor.fetchall())\n",
    "\n",
    "# Step 5: Preview some data from 'labels' table\n",
    "cursor.execute(\"SELECT * FROM labels LIMIT 5;\")\n",
    "rows = cursor.fetchall()\n",
    "for row in rows:\n",
    "    print(row)\n",
    "\n",
    "conn.close()\n"
   ]
  },
  {
   "cell_type": "code",
   "execution_count": 13,
   "id": "42a7a70d-fbe6-4b55-9577-5c0a0bea6097",
   "metadata": {},
   "outputs": [
    {
     "name": "stdout",
     "output_type": "stream",
     "text": [
      "ცხრილები ბაზაში: [('labels',)]\n"
     ]
    }
   ],
   "source": [
    "# ბაზასთან კავშირის დამყარება და ცხრილების ჩამონათვალის გამოტანა\n",
    "import sqlite3\n",
    "\n",
    "conn = sqlite3.connect(\"labels.sqlite\")\n",
    "cursor = conn.cursor()\n",
    "\n",
    "cursor.execute(\"SELECT name FROM sqlite_master WHERE type='table';\")\n",
    "print(\"ცხრილები ბაზაში:\", cursor.fetchall())\n",
    "\n",
    "conn.close()"
   ]
  },
  {
   "cell_type": "code",
   "execution_count": null,
   "id": "7caacf23-5aa8-41ce-8cef-5ad60c44d670",
   "metadata": {},
   "outputs": [],
   "source": [
    "conn = sqlite3.connect(\"labels.sqlite\")\n",
    "cursor = conn.cursor()\n",
    "\n",
    "cursor.execute(\"SELECT * FROM labels WHERE Label = '[1. 0. 0. 0. 0.]'\")\n",
    "rows = cursor.fetchall()\n",
    "for row in rows:\n",
    "    print(row)\n",
    "\n",
    "conn.close()"
   ]
  },
  {
   "cell_type": "code",
   "execution_count": null,
   "id": "4f0e565d-e507-4496-bc8b-6b075f845617",
   "metadata": {},
   "outputs": [],
   "source": [
    "#მომხმარებლის მიერ შეყვანილი ჩანაწერის დამატება\n",
    "conn = sqlite3.connect(\"labels.sqlite\")\n",
    "cursor = conn.cursor()\n",
    "\n",
    "image_path = input(\"შეიყვანე გამოსახულების ბილიკი: \")\n",
    "label = input(\"შეიყვანე ლეიბლი (მაგ: [0. 1. 0. 0. 0.]): \")\n",
    "\n",
    "cursor.execute(\"INSERT INTO labels ('Image Path', Label) VALUES (?, ?)\", (image_path, label))\n",
    "conn.commit()\n",
    "print(\"ჩანაწერი დაემატა.\")\n",
    "\n",
    "conn.close()"
   ]
  },
  {
   "cell_type": "code",
   "execution_count": null,
   "id": "3cc492bf-1255-460d-9c1b-00d0471e2943",
   "metadata": {},
   "outputs": [],
   "source": [
    "conn = sqlite3.connect(\"labels.sqlite\")\n",
    "cursor = conn.cursor()\n",
    "\n",
    "image_index = input(\"შეიყვანე გამოსახულების ნომერი: \")\n",
    "new_label = input(\"შეიყვანე ახალი ლეიბლი: \")\n",
    "\n",
    "cursor.execute(\"UPDATE labels SET Label = ? WHERE `Image Index` = ?\", (new_label, image_index))\n",
    "conn.commit()\n",
    "print(\"ჩანაწერი განახლდა.\")\n",
    "\n",
    "conn.close()"
   ]
  },
  {
   "cell_type": "code",
   "execution_count": null,
   "id": "490852e6-2d22-4925-8880-bfdcf1128c2f",
   "metadata": {},
   "outputs": [],
   "source": [
    "conn = sqlite3.connect(\"labels.sqlite\")\n",
    "cursor = conn.cursor()\n",
    "\n",
    "image_index = input(\"შეიყვანე იმ ჩანაწერის ნომერი, რომლის წაშლაც გსურს: \")\n",
    "\n",
    "cursor.execute(\"DELETE FROM labels WHERE `Image Index` = ?\", (image_index,))\n",
    "conn.commit()\n",
    "print(\"ჩანაწერი წაიშალა.\")\n",
    "\n",
    "conn.close()"
   ]
  },
  {
   "cell_type": "code",
   "execution_count": null,
   "id": "542c24c8-8c7a-4aef-952a-3cb288ca42a7",
   "metadata": {},
   "outputs": [],
   "source": [
    "import pandas as pd\n",
    "import matplotlib.pyplot as plt\n",
    "\n",
    "conn = sqlite3.connect(\"labels.sqlite\")\n",
    "df = pd.read_sql_query(\"SELECT * FROM labels\", conn)\n",
    "conn.close()\n",
    "\n",
    "label_counts = df[\"Label\"].value_counts()\n",
    "\n",
    "# დიაგრამა 1: სვეტური\n",
    "label_counts.plot(kind=\"bar\", title=\"ლეიბლების რაოდენობა\", color=\"skyblue\")\n",
    "plt.xlabel(\"ლეიბლი\")\n",
    "plt.ylabel(\"რაოდენობა\")\n",
    "plt.xticks(rotation=45)\n",
    "plt.show()\n",
    "\n",
    "# დიაგრამა 2: წრიული\n",
    "label_counts.plot(kind=\"pie\", autopct='%1.1f%%', figsize=(6, 6))\n",
    "plt.title(\"ლეიბლების პროცენტული განაწილება\")\n",
    "plt.ylabel(\"\")\n",
    "plt.show()\n",
    "\n",
    "# დიაგრამა 3: ჰორიზონტალური ბარი\n",
    "label_counts.head(5).plot(kind=\"barh\", title=\"ყველაზე ხშირი 5 ლეიბლი\", color=\"orange\")\n",
    "plt.xlabel(\"რაოდენობა\")\n",
    "plt.ylabel(\"ლეიბლი\")\n",
    "plt.show()"
   ]
  }
 ],
 "metadata": {
  "kernelspec": {
   "display_name": "Python 3 (ipykernel)",
   "language": "python",
   "name": "python3"
  },
  "language_info": {
   "codemirror_mode": {
    "name": "ipython",
    "version": 3
   },
   "file_extension": ".py",
   "mimetype": "text/x-python",
   "name": "python",
   "nbconvert_exporter": "python",
   "pygments_lexer": "ipython3",
   "version": "3.10.0"
  }
 },
 "nbformat": 4,
 "nbformat_minor": 5
}
